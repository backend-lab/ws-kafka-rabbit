{
 "cells": [],
 "metadata": {
  "language_info": {
   "codemirror_mode": {
    "name": "ipython",
    "version": 2
   },
   "file_extension": ".py",
   "mimetype": "text/x-python",
   "name": "python",
   "nbconvert_exporter": "python",
   "pygments_lexer": "ipython2",
   "version": "2.7.6"
  },
  "kernelspec": {
   "name": "python3",
   "language": "python",
   "display_name": "Python 3"
  },
  "pycharm": {
   "stem_cell": {
    "cell_type": "raw",
    "source": [
     "#################################### Ячейка 1 ####################################\n",
     "#установка библиотек \n",
     "!pip install kafka-python \n",
     "\n",
     "import json\n",
     "import random\n",
     "\n",
     "from kafka import KafkaConsumer\n",
     "from json import loads\n",
     "from kafka.structs import TopicPartition\n",
     "\n",
     "#################################### Ячейка 2 ####################################\n",
     "#объявление потребителя Kafka\n",
     "consumer = KafkaConsumer(\n",
     "  bootstrap_servers=['striking-snipe-11469-eu1-kafka.upstash.io:9092'],\n",
     "  sasl_mechanism='SCRAM-SHA-256',\n",
     "  security_protocol='SASL_SSL',\n",
     "  sasl_plain_username='c3RyaWtpb*****', #ваш username здесь\n",
     "  sasl_plain_password='*****', #ваш password здесь\n",
     "  group_id='1',\n",
     "  auto_offset_reset='earliest',\n",
     "  enable_auto_commit=True\n",
     ")\n",
     "\n",
     "# подписка потребителя на определенный раздел topic partition\n",
     "topic='myNewTopic' #ваш topic здесь\n",
     "topic_partition_0 = TopicPartition(topic, 0)   # указываем имя топика и номер раздела: #все вопросы записывать в раздел 0\n",
     "topic_partition_1 = TopicPartition(topic, 1)   # указываем имя топика и номер раздела: #все корпоративные заявки записывать в раздел 1\n",
     "topic_partition_2 = TopicPartition(topic, 2)   # указываем имя топика и номер раздела: #заявки от частных лиц записывать в раздел 2\n",
     "consumer.assign([topic_partition_0, topic_partition_1, topic_partition_2])\n",
     "\n",
     "#################################### Ячейка 3 ####################################\n",
     "#читаем сообщения с топика kafka\n",
     "for message in consumer:\n",
     "  payload=message.value.decode(\"utf-8\")\n",
     "  data=json.loads(payload)\n",
     "  \n",
     "  #вывод исходных данных в консоль Goggle Colab\n",
     "  print(f' [x] Partition {message.partition}')\n",
     "  print(data)\n",
     "  \n",
     "#################################### Ячейка 4 ####################################\n",
     "#отписываем потребителя и закрываем соединение \n",
     "consumer.unsubscribe()\n",
     "consumer.close()"
    ],
    "metadata": {
     "collapsed": false
    }
   }
  }
 },
 "nbformat": 4,
 "nbformat_minor": 0
}