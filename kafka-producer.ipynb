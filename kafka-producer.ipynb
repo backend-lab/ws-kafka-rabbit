{
 "cells": [],
 "metadata": {
  "language_info": {
   "codemirror_mode": {
    "name": "ipython",
    "version": 2
   },
   "file_extension": ".py",
   "mimetype": "text/x-python",
   "name": "python",
   "nbconvert_exporter": "python",
   "pygments_lexer": "ipython2",
   "version": "2.7.6"
  },
  "kernelspec": {
   "name": "python3",
   "language": "python",
   "display_name": "Python 3"
  },
  "pycharm": {
   "stem_cell": {
    "cell_type": "raw",
    "source": [
     "#################################### Ячейка 1 ####################################\n",
     "#установка библиотек\n",
     "!pip install kafka-python\n",
     "\n",
     "#импорт модулей\n",
     "import json\n",
     "import random\n",
     "from datetime import datetime\n",
     "import time\n",
     "from time import sleep\n",
     "from kafka import KafkaProducer#%%\n",
     "\n",
     "#################################### Ячейка 2 ####################################\n",
     "# объявление продюсера Kafka и параметров подключения\n",
     "producer = KafkaProducer(\n",
     "  bootstrap_servers=['striking-snipe-11469-eu1-kafka.upstash.io:9092'],\n",
     "  sasl_mechanism='SCRAM-SHA-256',\n",
     "  security_protocol='SASL_SSL',\n",
     "  sasl_plain_username='c3RyaWtpbmctc****', #ваш username здесь\n",
     "  sasl_plain_password='*******', #ваш password здесь\n",
     "  value_serializer=lambda v: json.dumps(v).encode('utf-8')\n",
     ")\n",
     "\n",
     "# задаем топик Kafka\n",
     "topic = 'myNewTopic' #ваш topic здесь\n",
     "\n",
     "with open('/content/json_data.json', 'r') as file:\n",
     "  for line in file:\n",
     "    #читаем построчно сообщения из файла data.json\n",
     "    message = json.loads(line)\n",
     "\n",
     "    #создаем ключ (key) на основе сообщения - для Kafka\n",
     "    messageKey = str.encode(message['subject'] + message['name'])\n",
     "\n",
     "    #логика роутинга\n",
     "    if message['subject']=='question':\n",
     "       partition = 0 #все вопросы записывать в раздел 0\n",
     "    else:\n",
     "      #все корпоративные заявки записывать в раздел 1\n",
     "      #заявки от частных лиц записывать в раздел 2\n",
     "      isCorp = (message['isCorp']==1)\n",
     "      partition = 1 if isCorp else 2\n",
     "\n",
     "    #отправка сообщений в брокер\n",
     "    future = producer.send(\n",
     "        topic,\n",
     "        value = message,\n",
     "        partition = partition,\n",
     "        key = messageKey\n",
     "    )\n",
     "\n",
     "    recordMetadata = future.get(timeout=60)\n",
     "\n",
     "    #выводим в консоль опубликованное ответ Kafka о публикации\n",
     "    print(f' [x] Sent {recordMetadata}')\n",
     "    print(f' [x] Payload {message}')\n",
     "\n",
     "    #повтор через 1 секунду\n",
     "    time.sleep(1)\n",
     "\n",
     "#################################### Ячейка 3 ####################################\n",
     "#Закрываем соединения\n",
     "producer.close()"
    ],
    "metadata": {
     "collapsed": false
    }
   }
  }
 },
 "nbformat": 4,
 "nbformat_minor": 0
}